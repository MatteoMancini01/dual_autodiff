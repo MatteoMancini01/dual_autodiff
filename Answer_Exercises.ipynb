{
 "cells": [
  {
   "cell_type": "code",
   "execution_count": 8,
   "metadata": {},
   "outputs": [],
   "source": [
    "from dual_autodiff import Dual\n",
    "\n",
    "def test_dual():\n",
    "    x = Dual(2,1)\n",
    "    assert x.real==2\n",
    "    assert x.dual==1\n"
   ]
  },
  {
   "cell_type": "code",
   "execution_count": 9,
   "metadata": {},
   "outputs": [],
   "source": [
    "test_dual()"
   ]
  }
 ],
 "metadata": {
  "kernelspec": {
   "display_name": "dual_venv",
   "language": "python",
   "name": "python3"
  },
  "language_info": {
   "codemirror_mode": {
    "name": "ipython",
    "version": 3
   },
   "file_extension": ".py",
   "mimetype": "text/x-python",
   "name": "python",
   "nbconvert_exporter": "python",
   "pygments_lexer": "ipython3",
   "version": "3.12.3"
  }
 },
 "nbformat": 4,
 "nbformat_minor": 2
}
