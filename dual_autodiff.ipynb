{
 "cells": [
  {
   "cell_type": "markdown",
   "metadata": {},
   "source": [
    "# Automatic Differentiation Using Dual Numbers"
   ]
  },
  {
   "cell_type": "markdown",
   "metadata": {},
   "source": [
    "### Introduction\n",
    "This Jupyter Notebook is designed as a guide to illustrate how to use the dual_autodiff package, a Python package created to perform automatic differentiations using dual numbers. Firstly, a brief introduction on the concepts of dual numbers and automatic differentiations, then some examples on how to use the package. The package contains all trigonometric and hyperbolic functions, furthermore the exponential and logarithmic functions. <span style=\"color:red\">The only dependency in the package is numpy, for more infromation on numpy see [link](https://numpy.org/), make sure all the packages required in dual_autodiff are also installed</span> \n",
    "\n"
   ]
  },
  {
   "cell_type": "markdown",
   "metadata": {},
   "source": [
    "TO-DO:\n",
    "- KEEP AN EYE ON THE RED TEXTS (NEED MODIFICATION)\n",
    "- add a set up section that expains how to create a virtual enviroment and install the package using `pip install -e .`\n",
    "- ADD ANOTHER CLASS CALLED DERIVATIVE TO COMPUTE THE NUMERICAL DERIVATIVE (maybe not required in numpy you have gradient which computes the derivative, scipy.misc has derivative and more)\n",
    "- ADD A PLOTTING OPTION TO CLASS DUAL SO THAT IT COMPUTES THE DUAL WITH A RANGE OF VALUES INSTEAD OF SIGLE OPINTS, E.G. `x = np.linspace()` as input\n"
   ]
  },
  {
   "cell_type": "markdown",
   "metadata": {},
   "source": [
    "### Background\n",
    "\n",
    "#### Dual Numbers\n"
   ]
  },
  {
   "cell_type": "markdown",
   "metadata": {},
   "source": [
    "### Set Up"
   ]
  },
  {
   "cell_type": "code",
   "execution_count": 1,
   "metadata": {},
   "outputs": [],
   "source": [
    "from dual_autodiff import Dual\n",
    "from dual_autodiff import num_diff"
   ]
  },
  {
   "cell_type": "code",
   "execution_count": 2,
   "metadata": {},
   "outputs": [
    {
     "name": "stdout",
     "output_type": "stream",
     "text": [
      "Dual(real = 2, dual = 1)\n"
     ]
    }
   ],
   "source": [
    "x = Dual(2,1)\n",
    "print(x)"
   ]
  },
  {
   "cell_type": "code",
   "execution_count": 3,
   "metadata": {},
   "outputs": [
    {
     "data": {
      "text/plain": [
       "-0.4161468365471424"
      ]
     },
     "execution_count": 3,
     "metadata": {},
     "output_type": "execute_result"
    }
   ],
   "source": [
    "x.sin().dual"
   ]
  },
  {
   "cell_type": "code",
   "execution_count": 4,
   "metadata": {},
   "outputs": [
    {
     "name": "stdout",
     "output_type": "stream",
     "text": [
      "-1.9612372705533612\n"
     ]
    }
   ],
   "source": [
    "x = Dual(1.5, 1) # choose 1 for dual so we obtain the derivative\n",
    "f_x  = x.sin().log() + x**2*x.cos() # log(sin(x)) + x**2cos(x)\n",
    "\n",
    "derivative_at_x_real = f_x.dual\n",
    "print(derivative_at_x_real)\n",
    "\n"
   ]
  },
  {
   "cell_type": "code",
   "execution_count": 13,
   "metadata": {},
   "outputs": [
    {
     "name": "stdout",
     "output_type": "stream",
     "text": [
      "4.000000000000001\n"
     ]
    }
   ],
   "source": [
    "from dual_autodiff import num_diff as nd # numerical differentiation\n",
    "\n",
    "def f(x):\n",
    "    return x**2\n",
    "\n",
    "y_der = nd(f, 2, 0.1)\n",
    "dy = y_der.first_central()\n",
    "print(dy)"
   ]
  },
  {
   "cell_type": "markdown",
   "metadata": {},
   "source": []
  },
  {
   "cell_type": "code",
   "execution_count": null,
   "metadata": {},
   "outputs": [
    {
     "data": {
      "application/vnd.jupyter.widget-view+json": {
       "model_id": "afc18f29bc8c4155bf50ccd20e336894",
       "version_major": 2,
       "version_minor": 0
      },
      "text/plain": [
       "interactive(children=(FloatSlider(value=0.1, description='h', max=0.99, min=1e-05, step=0.01), Output()), _dom…"
      ]
     },
     "metadata": {},
     "output_type": "display_data"
    }
   ],
   "source": [
    "from ipywidgets import interactive\n",
    "import ipywidgets as widgets\n",
    "import matplotlib.pyplot as plt\n",
    "import numpy as np\n",
    "\n",
    "def plot_with_parameters(h): \n",
    "\n",
    "    def f(x): \n",
    "        return np.log(np.sin(x)) + x**2*np.cos(x)\n",
    "\n",
    "    def df_true(x): \n",
    "        return 1/np.tan(x) + 2*x*np.cos(x) - x**2*np.sin(x)\n",
    "\n",
    "    # Dual derivative\n",
    "    x_space = np.linspace(1, 2, 100)\n",
    "    x = Dual(x_space, 1) # set dual part equal to 1\n",
    "    f_dual = x.sin().log() + (x**2)*x.cos()\n",
    "    df_dual = f_dual.dual # take the dual part of f to find its derivative at x.real=1.5 \n",
    "\n",
    "# Analytical derivative\n",
    "    true_der = df_true(x.real)\n",
    "\n",
    "    # Calculate f(t) for these parameters\n",
    "    ndf = num_diff(f, x.real, h) # x=1.5 \n",
    "    ndf_for = ndf.first_forward() # forward difference\n",
    "    ndf_cen = ndf.first_central() # central difference\n",
    "    ndf_bac = ndf.first_backwards() # backward difference\n",
    "\n",
    "    # Plot the function\n",
    "    plt.figure(figsize=(10, 6))\n",
    "    plt.plot(x_space, true_der, label='First Order Analytical')\n",
    "    plt.plot(x_space, df_dual, label='Automatic Differentiation', color = 'black', linestyle = ':')\n",
    "    plt.plot(x_space, ndf_cen, label='First Order Numerical Central', color = 'red', linestyle = '--')\n",
    "    plt.plot(x_space, ndf_for, label='First Order Numerical Forward', color = 'purple', linestyle = '--')\n",
    "    plt.plot(x_space, ndf_bac, label='First Order Numerical Backward', color = 'blue', linestyle = '--')\n",
    "    plt.xlabel('x')\n",
    "    plt.ylabel(r'$\\frac{df}{dx} = cot(x) +  2xcos(x) - x^2sin(x)$')\n",
    "    plt.title('Numerical vs Analytical')\n",
    "    plt.legend()\n",
    "    plt.grid(True)\n",
    "    plt.show()\n",
    "\n",
    "# Create interactive widget\n",
    "interactive_plot = interactive(\n",
    "    plot_with_parameters,\n",
    "    h=widgets.FloatSlider(min=10**(-5), max=0.99, step=0.01, value=0.1),\n",
    ")\n",
    "display(interactive_plot)"
   ]
  }
 ],
 "metadata": {
  "kernelspec": {
   "display_name": "dual_venv",
   "language": "python",
   "name": "python3"
  },
  "language_info": {
   "codemirror_mode": {
    "name": "ipython",
    "version": 3
   },
   "file_extension": ".py",
   "mimetype": "text/x-python",
   "name": "python",
   "nbconvert_exporter": "python",
   "pygments_lexer": "ipython3",
   "version": "3.12.3"
  }
 },
 "nbformat": 4,
 "nbformat_minor": 2
}
