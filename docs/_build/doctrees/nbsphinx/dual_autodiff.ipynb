{
 "cells": [
  {
   "cell_type": "markdown",
   "metadata": {},
   "source": [
    "# Automatic Differentiation"
   ]
  },
  {
   "cell_type": "markdown",
   "metadata": {},
   "source": [
    "### Introduction\n",
    "This Jupyter Notebook is designed as a guide to illustrate how to use the `dual_autodiff` package, a Python package created to perform automatic differentiations using dual numbers. Firstly, a brief introduction on the concepts of dual numbers and automatic differentiations, then some examples on how to use the package.\n",
    "Furthermore, there is also a cythonised vesrion the package namely `dual_autodiff_x`."
   ]
  },
  {
   "cell_type": "markdown",
   "metadata": {},
   "source": [
    "### Package Structure\n",
    "\n",
    "`dual_autodiff` structure:\n",
    "\n",
    "```bash\n",
    "   ├── dual_autodiff/\n",
    "   │   ├── __init__.py \n",
    "   │   ├── dual.py\n",
    "   │   ├── n_diff.py\n",
    "   │   └── version.py\n",
    "```\n",
    "Where `dual.py` is the module that contains the class `Dual`, this class allows us to perform dual number algebra, thus one can use it to perform automatic differentiation, by setting the dual part of a dual number equal to one. \n",
    "\n",
    "And `n_diff.py` is a module that contains the class `NumDiff`, this contains four different dunstions `first_forward`, `first_central`, `first_backward` and `second_order`, the first three are designed to compute first order numerical derivatives, while the last one computes second order numerical derivatives. \n",
    "\n",
    "The module `n_diff.py` was constructed for the purpose of comparing numerical derivative methods performance against automatic differentiation through dual numbers. \n",
    "\n",
    "\n",
    "`dual_autodiff_x` structure:\n",
    "\n",
    "```bash\n",
    "   ├── src\n",
    "   │   ├── dual_autodiff_x\n",
    "   │   │   ├── __init__.py\n",
    "   │   │   ├── __pycache__\n",
    "   │   │   ├── dual.c\n",
    "   │   │   ├── dual.pyx\n",
    "   │   │   ├── n_diff.c\n",
    "   │   │   ├── n_diff.pyx\n",
    "   │   │   └── version.py\n",
    "```\n",
    "\n",
    "As you can oberve `dual_autodiff_x` has a similar structure to the pure python package;\n",
    "\n",
    "\n",
    "\n",
    "- `__init__.py` initialises the package and provides imports for easy access to its modules.\n",
    "\n",
    "- `__pycache__/` a direcotry automatically created by Python to store compiled versions of the package modules for faster loading.\n",
    "\n",
    "- `dual.c` is a C file generated from `dual.pyx` by Cython, containing the compiled implementation of the `Dual` class for improved performance (i.e. faster computational power).\n",
    "\n",
    "- `dual.pyx` is a Cython file containing the implementation of the `Dual` class for algebric computaions and automatic differentiation using dual numbers.\n",
    "\n",
    "- `n_diff.c` is a C file generated from `n_diff.pyx` by Cython, containing the complied implementation of numerical differentiation methods.\n",
    "\n",
    "- `n_diff.pyx` is a Cython file containing the implementation of numerical differentiaion methods for first-order and second-order derivatives.\n",
    "\n",
    "- `__version.py` is a module to manage and define the package version information.\n",
    "\n",
    "Both `Dual` and `DualX` classes have the same functions, same applies for the classes `NumDiff` and `NumDiffX`, later on we are going to compare the performance of pure Python packages vs Cython packages."
   ]
  },
  {
   "cell_type": "markdown",
   "metadata": {},
   "source": [
    "### Background\n",
    "This is a brief sections where we aim to introduce the concept of a dual number, and how one can use them for automatic differentiation (more details are provided in the report).\n",
    "#### Definition of Dual Numbers\n",
    "Dual numbers are a hypercomplex number system, these are expressed in the form $a + \\epsilon b$, where $a,b \\in \\mathbb{R}$, and $\\epsilon$ is the infinitesimal unit which satisfy $\\epsilon^n$, for $n \\geq 2, n \\in \\mathbb{N}$ and with $0 < \\epsilon <<1$. \n",
    "#### Algebra of Dual Numbers\n",
    "Let us define $x$ and $y$ to be dual numbers and $m$ a real number, in particular $x = a + \\epsilon b$ and $y = c + \\epsilon d$, where $a,b,c,d \\in \\mathbb{R}$. Then the following results hold:\n",
    "\n",
    "1. Addition:\n",
    "- $x + y = a+c + \\epsilon(b+d)$\n",
    "- $x + m = a+m + \\epsilon d$\n",
    "\n",
    "2. Subtraction:\n",
    "- $x - y = a-c + \\epsilon(b-d)$\n",
    "- $x - m = a-m + \\epsilon d$\n",
    "\n",
    "3. Multiplication:\n",
    "- $xy = ac + \\epsilon (ad + cb)$\n",
    "- $xm = am + \\epsilon bm$\n",
    "\n",
    "4. Division:\n",
    "- $\\frac{x}{y} = \\frac{a}{c} + \\epsilon \\left(\\frac{b}{c} - \\frac{ad}{c^2}\\right)$\n",
    "- $\\frac{x}{m} = \\frac{a}{m} + \\epsilon \\frac{b}{m}$\n",
    "- $\\frac{m}{y} = \\frac{m}{c} + \\epsilon \\frac{md}{c^2}$\n",
    "\n",
    "5. Power:\n",
    "- $x^m = a^m + \\epsilon mba^{m-1}$\n",
    "- $m^x = m^a \\left(1 + \\epsilon \\log{(m)}b\\right)$ \n",
    "- $x^y = a^c \\left[1 + \\epsilon \\left(\\frac{cb}{a} + \\log{(a)}d\\right)\\right]$\n",
    "\n",
    "(All of the above algebric computation are included in both Python and Cython packages)\n",
    "\n",
    "### Automatic Differentiation\n",
    "Given any n-degree polynomial, with $x$ domain\n",
    "\\begin{equation}\n",
    "P(x) = p_0 + p_1 x + p_2 x^2 + ... + p_n x^n\\tag{1}\n",
    "\\end{equation}\n",
    "\n",
    "If we allow $x$ to have a real and dual part, i.e. let $x = a + \\epsilon b$, then\n",
    "\\begin{equation}\n",
    "P(a + \\epsilon b) = P(a) + \\epsilon bP'(a)\\tag{2}\n",
    "\\end{equation}\n",
    "From Eq. (2) one can observe that, the real part of the RHS is the polynomial evaluated at $a$ while the dual part its the derivative of the polynomila evaluated at $a$ times the dual coefficient b. \n",
    "\n",
    "Generally this can be extended to any analytical real funtion when, computing their Taylor series, i.e.\n",
    "\\begin{equation}\n",
    "f(a + \\epsilon b) = \\sum^{\\infty}_{n=0} \\frac{f^{(n)}(a)b^n\\epsilon^n}{n!} = f(a) + \\epsilon bf'(a)\\tag{3}\n",
    "\\end{equation}\n",
    "\n",
    "(More information can be found in the report)\n",
    "\n",
    "If one constructs the domanin of any analytical real function to be dual numbers, where the coefficent $a$ to be any real number and set the coefficient $b=1$ then, the real part of any analytical real function is the function evaluated at the point $a$ while the dual part is the function's derivative evaluated at the point $a$. We will see more examples in the coding section.\n",
    "\n",
    "Reference: [Wikipedia](https://en.wikipedia.org/wiki/Dual_number)\n",
    "\n",
    "\n"
   ]
  },
  {
   "cell_type": "markdown",
   "metadata": {},
   "source": [
    "### Coding"
   ]
  },
  {
   "cell_type": "code",
   "execution_count": 1,
   "metadata": {},
   "outputs": [],
   "source": [
    "# Importing required packages\n",
    "import numpy as np\n",
    "import matplotlib.pyplot as plt\n",
    "import pandas as pd\n",
    "\n",
    "# Importing our packages\n",
    "\n",
    "# Pure Python\n",
    "from dual_autodiff import Dual\n",
    "from dual_autodiff import NumDiff\n",
    "\n",
    "# Cythonised \n",
    "from dual_autodiff_x import DualX\n",
    "from dual_autodiff_x import NumDiffX"
   ]
  },
  {
   "cell_type": "markdown",
   "metadata": {},
   "source": [
    "<b>Simple examples</b>\n",
    "\n",
    "1. Check if `Dual` and `DualX` are working correctly"
   ]
  },
  {
   "cell_type": "code",
   "execution_count": 4,
   "metadata": {},
   "outputs": [
    {
     "name": "stdout",
     "output_type": "stream",
     "text": [
      "Pure Python:\n",
      "x = Dual(real = 2, dual = 1)\n",
      "The real part of x is 2\n",
      "The dual part of x is 1\n",
      "\n",
      "Cythonised:\n",
      "xc = Dual(real = 2, dual = 1)\n",
      "The real part of xc is 2\n",
      "The dual part of xc is 1\n"
     ]
    }
   ],
   "source": [
    "x = Dual(2,1)\n",
    "xc = DualX(2,1)\n",
    "\n",
    "print('Pure Python:')\n",
    "print(f'x = {x}')\n",
    "print(f'The real part of x is {x.real}')\n",
    "print(f'The dual part of x is {x.dual}')\n",
    "print('')\n",
    "print('Cythonised:')\n",
    "print(f'xc = {xc}')\n",
    "print(f'The real part of xc is {xc.real}')\n",
    "print(f'The dual part of xc is {xc.dual}')"
   ]
  },
  {
   "cell_type": "markdown",
   "metadata": {},
   "source": [
    "2. Addion simple example"
   ]
  },
  {
   "cell_type": "code",
   "execution_count": 5,
   "metadata": {},
   "outputs": [
    {
     "name": "stdout",
     "output_type": "stream",
     "text": [
      "x + y = Dual(real = 5, dual = 3)\n"
     ]
    }
   ],
   "source": [
    "y = Dual(3, 2)\n",
    "print(f'x + y = {x+y}')"
   ]
  },
  {
   "cell_type": "markdown",
   "metadata": {},
   "source": [
    "3. Example with the sine function"
   ]
  },
  {
   "cell_type": "code",
   "execution_count": 6,
   "metadata": {},
   "outputs": [
    {
     "name": "stdout",
     "output_type": "stream",
     "text": [
      "Pure Python:\n",
      "sin(2 + ε) = Dual(real = 0.9092974268256817, dual = -0.4161468365471424)\n",
      "Derivative of sine at 2 is -0.4161468365471424\n",
      "\n",
      "Cythonised:\n",
      "sin(2 + ε) = Dual(real = 0.9092974268256817, dual = -0.4161468365471424)\n",
      "Derivative of sine at 2 is -0.4161468365471424\n"
     ]
    }
   ],
   "source": [
    "sin_x = x.sin()\n",
    "sin_xc = xc.sin()\n",
    "\n",
    "print('Pure Python:')\n",
    "print(f'sin(2 + ε) = {sin_x}')\n",
    "print(f'Derivative of sine at 2 is {sin_x.dual}')\n",
    "print('')\n",
    "print('Cythonised:')\n",
    "print(f'sin(2 + ε) = {sin_xc}')\n",
    "print(f'Derivative of sine at 2 is {sin_xc.dual}') # this is true as the dual part of x is 1\n"
   ]
  },
  {
   "cell_type": "markdown",
   "metadata": {},
   "source": [
    "4. Quick illustration on how to use `NumDiff` and `NumDiffX`\n",
    "\n",
    "   Say we want to compute the numerical derivative of the function $f(x) = x^2 + exp(x)$."
   ]
  },
  {
   "cell_type": "code",
   "execution_count": 7,
   "metadata": {},
   "outputs": [
    {
     "name": "stdout",
     "output_type": "stream",
     "text": [
      "Pure Python:\n",
      "The numerical derivative of f(x) at x=2 is 11.389179250481263 (central difference).\n",
      "\n",
      "Cython:\n",
      "The numerical derivative of f(x) at x=2 is 11.389179250481263 (central difference).\n",
      "\n",
      "The analytical derivative of f(x) at x=2 is 11.38905609893065.\n"
     ]
    }
   ],
   "source": [
    "# Define the function you want to differentiate\n",
    "def f(x):\n",
    "    return x**2 + np.exp(x)\n",
    "\n",
    "# Define analytical derivative to compere results\n",
    "\n",
    "def der(x):\n",
    "    return 2*x + np.exp(x)\n",
    "\n",
    "a = 2 # Evaluating the derivative at the point a=2\n",
    "h = 0.01 # Stepsize\n",
    "\n",
    "fx = NumDiff(f, a, h) # setting up for puer Python\n",
    "fxc  = NumDiffX(f,a,h) # setting up for Cython\n",
    "\n",
    "derivative_of_fx = fx.first_central() # computing the central difference with pure Python\n",
    "derivative_of_fxc = fxc.first_central() # computing the central difference with Cython\n",
    "\n",
    "# Checing results\n",
    "print('Pure Python:')\n",
    "print(f'The numerical derivative of f(x) at x=2 is {derivative_of_fx} (central difference).')\n",
    "print('')\n",
    "print('Cython:')\n",
    "print(f'The numerical derivative of f(x) at x=2 is {derivative_of_fxc} (central difference).')\n",
    "print('')\n",
    "print(f'The analytical derivative of f(x) at x=2 is {der(a)}.')\n"
   ]
  },
  {
   "cell_type": "markdown",
   "metadata": {},
   "source": [
    "5. Repeating example 4, using `Dual` and `DualX`"
   ]
  },
  {
   "cell_type": "code",
   "execution_count": 8,
   "metadata": {},
   "outputs": [
    {
     "name": "stdout",
     "output_type": "stream",
     "text": [
      "Pure Python:\n",
      "The derivative computed with dual numbers of f(x) at x=2 is 11.38905609893065.\n",
      "\n",
      "Cython:\n",
      "The derivative computed with dual numbers of f(x) at x=2 is 11.38905609893065.\n",
      "\n",
      "The analytical derivative of f(x) at x=2 is 11.38905609893065.\n"
     ]
    }
   ],
   "source": [
    "# Defining our variable x in terms of dual numbers\n",
    "x = Dual(a,1) # Python\n",
    "xc = DualX(a,1) # Cython\n",
    "\n",
    "# Defining f(x)\n",
    "funx = x**2 + x.exp() # Python \n",
    "funxc = xc**2 + xc.exp() # Cython\n",
    "\n",
    "print('Pure Python:')\n",
    "print(f'The derivative computed with dual numbers of f(x) at x=2 is {funx.real}.')\n",
    "print('')\n",
    "print('Cython:')\n",
    "print(f'The derivative computed with dual numbers of f(x) at x=2 is {funxc.real}.')\n",
    "print('')\n",
    "print(f'The analytical derivative of f(x) at x=2 is {der(a)}.')"
   ]
  },
  {
   "cell_type": "markdown",
   "metadata": {},
   "source": [
    "6. Plotting using `Dual`, `DualX`, `NumDiff` and `NumDiffX`\n",
    "\n",
    "   For this particular exaple, I want to show how to use packages `dual_autodiff` and `dual_autodiff_x` to plot fuctions and their deirvarives.\n",
    "\n",
    "   Let\n",
    "\n",
    "   $$\n",
    "   f(x) = \\sin{x} + \\sinh{x}\n",
    "   $$\n",
    "   \n",
    "   We are going to plot its derivative with different methods and compare the plot to the its analytical derivative."
   ]
  },
  {
   "cell_type": "code",
   "execution_count": 9,
   "metadata": {},
   "outputs": [
    {
     "data": {
      "image/png": "[encoded data removed]",
      "text/plain": [
       "<Figure size 1200x500 with 2 Axes>"
      ]
     },
     "metadata": {},
     "output_type": "display_data"
    }
   ],
   "source": [
    "# Define the function f(x)\n",
    "def f1(x):\n",
    "    return np.sin(x) + np.sinh(x)\n",
    "\n",
    "# Define analytical derivative of f(x)\n",
    "def der_f1(x):\n",
    "    return np.cos(x) + np.cosh(x)\n",
    "\n",
    "# Plots range\n",
    "x_space = np.linspace(-5,5,100)\n",
    "\n",
    "# Setting up for Dual and DualX\n",
    "x1 = Dual(x_space, 1)\n",
    "xc1 = DualX(x_space,1)\n",
    "\n",
    "# Defining function in terms of dual numbers\n",
    "fx1_dual = x1.sin() + x1.sinh()\n",
    "fxc1_dual = xc1.sin() + xc1.sinh()\n",
    "\n",
    "# Setting up for NumDiff and NumDiffX\n",
    "h = 0.5 # chose large value of h to exagerate the difference\n",
    "fx1 = NumDiff(f1, x_space, h)\n",
    "fxc1 = NumDiffX(f1,x_space,h)\n",
    "\n",
    "# Computing Numerical Derivative with NumDiff and NumDiffX\n",
    "num_der_f1 = fx1.first_forward()\n",
    "num_der_fc1= fxc1.first_forward()\n",
    "\n",
    "# Plotting the results\n",
    "\n",
    "fig, ax = plt.subplots(1,2, figsize = (12, 5)) # making subplots\n",
    "\n",
    "# Pure Python\n",
    "ax[0].plot(x_space, der_f1(x_space), color = 'red', label = 'Analytical')\n",
    "ax[0].plot(x_space, num_der_f1, color = 'blue', label = f'Numerical (forward difference h={h})')\n",
    "ax[0].plot(x_space, fx1_dual.dual, color = 'black', linestyle=':', label='Automatic differentiation')\n",
    "ax[0].set_title('Plot with pure Python package')\n",
    "ax[0].set_xlabel('x')\n",
    "ax[0].set_ylabel('y')\n",
    "ax[0].legend(loc = 'center', bbox_to_anchor=(1.1,-0.2))\n",
    "ax[0].grid()\n",
    "# Cython\n",
    "ax[1].plot(x_space, der_f1(x_space), color = 'red', label = 'Analytical')\n",
    "ax[1].plot(x_space, num_der_fc1, color = 'blue', label = f'Numerical (forward difference h={h})')\n",
    "ax[1].plot(x_space, fxc1_dual.dual, color = 'black', linestyle=':', label='Automatic differentiation')\n",
    "ax[1].set_title('Plot with Cythonised package')\n",
    "ax[1].set_xlabel('x')\n",
    "ax[1].set_ylabel('y')\n",
    "ax[1].grid()\n",
    "\n",
    "plt.show()"
   ]
  },
  {
   "cell_type": "markdown",
   "metadata": {},
   "source": [
    "As one expects, from the above plot one can obesrve that the derivative computed using automatic differentiation is exact!"
   ]
  },
  {
   "cell_type": "markdown",
   "metadata": {},
   "source": [
    " ##### Tackling Task 5 with Dual Numbers and Numerical Derivatives\n",
    " \n",
    " Computing the derivative of $f(x)$:\n",
    " $$\n",
    " \\begin{align*}\n",
    " f(x) &= log(sin(x)) + x^2cos(x)\\\\\n",
    " f'(x) &= cot(x) +  2xcos(x) - x^2sin(x)\n",
    " \\end{align*}\n",
    " $$\n",
    " When one defines the dual variable $x$ to determine the derivative of any fucntions $f(x)$ with respect to $x$, should always set the dual part of $x$ equal to $1$. For instance, running the code `x = Dual(1.5, 1)`, will ensure that the derivative of the function $f(x)$ at $Real(x) = 1.5$ is given by the dual part of $f(x)$. Given $x = a + \\epsilon b$, then:\n",
    "  $$\n",
    "\\begin{align*} \n",
    "f(x) = f(a + \\epsilon b) = f(a) + \\epsilon b f'(a)\\\\\n",
    "\\end{align*}\n",
    "$$\n",
    "  set $b=1$ thus,\n",
    "$$\n",
    "\\begin{align*} \n",
    "f(x) = f(a + \\epsilon) = f(a) + \\epsilon f'(a)\n",
    "\\end{align*}\n",
    "$$\n",
    "Hence the derivative of $f(x)$ is given by its dual part.\n",
    "\n",
    "Let us code the above:"
   ]
  },
  {
   "cell_type": "code",
   "execution_count": 10,
   "metadata": {},
   "outputs": [
    {
     "data": {
      "text/html": [
       "<div>\n",
       "<style scoped>\n",
       "    .dataframe tbody tr th:only-of-type {\n",
       "        vertical-align: middle;\n",
       "    }\n",
       "\n",
       "    .dataframe tbody tr th {\n",
       "        vertical-align: top;\n",
       "    }\n",
       "\n",
       "    .dataframe thead th {\n",
       "        text-align: right;\n",
       "    }\n",
       "</style>\n",
       "<table border=\"1\" class=\"dataframe\">\n",
       "  <thead>\n",
       "    <tr style=\"text-align: right;\">\n",
       "      <th></th>\n",
       "      <th>Automatic Differentiation</th>\n",
       "      <th>Forward Differentiation</th>\n",
       "      <th>Central Differentiation</th>\n",
       "      <th>Backward Differentiation</th>\n",
       "    </tr>\n",
       "  </thead>\n",
       "  <tbody>\n",
       "    <tr>\n",
       "      <th>Results</th>\n",
       "      <td>-1.961237</td>\n",
       "      <td>-1.996346</td>\n",
       "      <td>-1.961308</td>\n",
       "      <td>-1.926270</td>\n",
       "    </tr>\n",
       "    <tr>\n",
       "      <th>Ratio</th>\n",
       "      <td>1.000000</td>\n",
       "      <td>1.017901</td>\n",
       "      <td>1.000036</td>\n",
       "      <td>0.982171</td>\n",
       "    </tr>\n",
       "    <tr>\n",
       "      <th>Absolute Error</th>\n",
       "      <td>0.000000</td>\n",
       "      <td>0.035109</td>\n",
       "      <td>0.000071</td>\n",
       "      <td>0.034967</td>\n",
       "    </tr>\n",
       "  </tbody>\n",
       "</table>\n",
       "</div>"
      ],
      "text/plain": [
       "                Automatic Differentiation  Forward Differentiation  \\\n",
       "Results                         -1.961237                -1.996346   \n",
       "Ratio                            1.000000                 1.017901   \n",
       "Absolute Error                   0.000000                 0.035109   \n",
       "\n",
       "                Central Differentiation  Backward Differentiation  \n",
       "Results                       -1.961308                 -1.926270  \n",
       "Ratio                          1.000036                  0.982171  \n",
       "Absolute Error                 0.000071                  0.034967  "
      ]
     },
     "execution_count": 10,
     "metadata": {},
     "output_type": "execute_result"
    }
   ],
   "source": [
    "# f(x)\n",
    "def f(x):\n",
    "    return np.log(np.sin(x)) + x**2*np.cos(x)\n",
    "\n",
    "# f'(x) \n",
    "def df_true(x):\n",
    "    return 1/np.tan(x) + 2*x*np.cos(x) - x**2*np.sin(x)\n",
    "\n",
    "# Dual derivative\n",
    "x = Dual(1.5,1) # set dual part equal to 1\n",
    "f_dual = x.sin().log() + (x**2)*x.cos()\n",
    "df_dual = f_dual.dual # take the dual part of f to find its derivative at x.real=1.5 \n",
    "\n",
    "# Numerical solution\n",
    "h = 0.01 # step size\n",
    "ndf = NumDiff(f, x.real, h) # x=1.5 \n",
    "ndf_for = ndf.first_forward() # forward difference\n",
    "ndf_cen = ndf.first_central() # central difference\n",
    "ndf_bac = ndf.first_backward() # backward difference\n",
    "\n",
    "# Analytical derivative\n",
    "true_der = df_true(x.real)\n",
    "\n",
    "# defining all measures to determine the ratio and the error between analytical and dual/numerical\n",
    "def ratio(n,m):\n",
    "    return abs(n/m)\n",
    "\n",
    "def absolute_error(n,m):\n",
    "    return abs(n-m)\n",
    "\n",
    "# Create a dataset to display the impormation collected using pandas\n",
    "\n",
    "information = {\n",
    "    \"Automatic Differentiation\": [df_dual, ratio(df_dual,true_der), absolute_error(df_dual, true_der)],\n",
    "    \"Forward Differentiation\": [ndf_for, ratio(ndf_for,true_der), absolute_error(ndf_for, true_der)],\n",
    "    \"Central Differentiation\": [ndf_cen, ratio(ndf_cen,true_der), absolute_error(ndf_cen, true_der)],\n",
    "    \"Backward Differentiation\":[ndf_bac, ratio(ndf_bac,true_der), absolute_error(ndf_bac, true_der)]\n",
    "}\n",
    "\n",
    "results = pd.DataFrame(information, index=[\"Results\", \"Ratio\", \"Absolute Error\"])\n",
    "results # Displaying the output in a nice format"
   ]
  },
  {
   "cell_type": "markdown",
   "metadata": {},
   "source": [
    "#### Dual vs Numerical\n",
    "As we can observe from the above table, automatic differentiation is exact, hence one can now measure the error of the three different numerical methods applyed for differntiation. A good way to visualise the error is through loglog plots. But before we do that, we shall plot the ration between the analytical derivative and automatic derivative. "
   ]
  },
  {
   "cell_type": "code",
   "execution_count": 11,
   "metadata": {},
   "outputs": [
    {
     "name": "stderr",
     "output_type": "stream",
     "text": [
      "/root/Document/Python_Script/dual_autodiff/dual_autodiff/dual.py:834: RuntimeWarning: invalid value encountered in log\n",
      "  real = np.log(self.real)\n"
     ]
    },
    {
     "data": {
      "image/png": "[encoded data removed]",
      "text/plain": [
       "<Figure size 640x480 with 1 Axes>"
      ]
     },
     "metadata": {},
     "output_type": "display_data"
    },
    {
     "name": "stdout",
     "output_type": "stream",
     "text": [
      "Ratio list:\n",
      "[1. 1. 1. 1. 1. 1. 1. 1. 1. 1. 1. 1. 1. 1. 1. 1. 1. 1. 1. 1. 1. 1. 1. 1.\n",
      " 1. 1. 1. 1. 1. 1. 1. 1. 1. 1. 1. 1. 1. 1. 1. 1. 1. 1. 1. 1. 1. 1. 1. 1.\n",
      " 1. 1. 1. 1. 1. 1. 1. 1. 1. 1. 1. 1. 1. 1. 1. 1. 1. 1. 1. 1. 1. 1. 1. 1.\n",
      " 1. 1. 1. 1. 1. 1. 1. 1. 1. 1. 1. 1. 1. 1. 1. 1. 1. 1. 1. 1. 1. 1. 1. 1.\n",
      " 1. 1. 1. 1.]\n"
     ]
    }
   ],
   "source": [
    "# f'(x) \n",
    "def df_true(x):\n",
    "    return 1/np.tan(x) + 2*x*np.cos(x) - x**2*np.sin(x)\n",
    "\n",
    "x_space = np.linspace(3.25,5,100) # same as before define a range of real values\n",
    "\n",
    "x = Dual(x_space, 1) # defining variable \n",
    "function_x = x.sin().log() + (x**2)*x.cos() # defining function\n",
    "ratio_ = df_true(x_space)/(function_x.dual) # defining ratio\n",
    "\n",
    "plt.plot(x_space, ratio_, color= 'red')\n",
    "plt.xlabel('x')\n",
    "plt.ylabel('Ratio')\n",
    "plt.title('Ratio Analytical Derivative vs Dual Part')\n",
    "plt.grid()\n",
    "plt.show()\n",
    "print('Ratio list:')\n",
    "print(ratio_)\n"
   ]
  },
  {
   "cell_type": "markdown",
   "metadata": {},
   "source": [
    "#### LogLog Plots\n",
    "Using `loglog plots` is a common approach to visualize and measure errors across scales, especially in numerical methods and scientific computations. So here is how we are going to do it. \n",
    "\n",
    "- Evaluate the derivative at a single point $x=1.5$\n",
    "- Compute the numerical derivative for a range of values $h \\in [0.001, 1]$\n",
    "- Take the square difference \n",
    "- Plot the results into a `loglog` plot\n",
    "- Comment on the results"
   ]
  },
  {
   "cell_type": "code",
   "execution_count": 23,
   "metadata": {},
   "outputs": [
    {
     "data": {
      "image/png": "[encoded data removed]",
      "text/plain": [
       "<Figure size 640x480 with 1 Axes>"
      ]
     },
     "metadata": {},
     "output_type": "display_data"
    }
   ],
   "source": [
    "# f(x)\n",
    "def f(x):\n",
    "    return np.log(np.sin(x)) + x**2*np.cos(x)\n",
    "\n",
    "\n",
    "x = Dual(1.5, 1) # defining variable \n",
    "function_x = x.sin().log() + (x**2)*x.cos() # defining function\n",
    "true_der = function_x.dual\n",
    "\n",
    "h_space = np.arange(0.00001, 1, 0.00005) # define ranage of values for h\n",
    "\n",
    "der_f = NumDiff(f, 1.5, h_space) # first step for numerical derivative\n",
    "# Define each different numerical derivative\n",
    "forward_der = der_f.first_forward()\n",
    "central_der = der_f.first_central()\n",
    "backward_der = der_f.first_backward()\n",
    "\n",
    "# evaluating the square errors\n",
    "error_forward = (true_der-forward_der)**2\n",
    "error_central = (true_der-central_der)**2\n",
    "error_backward = (true_der-backward_der)**2\n",
    "\n",
    "# loglog plots\n",
    "\n",
    "plt.loglog(h_space, error_forward, color = 'red', label='Forward Difference Error')\n",
    "plt.loglog(h_space, error_central, color = 'purple', label='Central Difference Error')\n",
    "plt.loglog(h_space, error_backward, color = 'blue', label='Backward Difference Error')\n",
    "plt.xlabel('Grid size h')\n",
    "plt.ylabel('Error')\n",
    "plt.title('LogLog plot Error')\n",
    "plt.legend(loc='upper right', bbox_to_anchor=(1.5, 1))\n",
    "plt.grid()\n",
    "plt.show()"
   ]
  },
  {
   "cell_type": "markdown",
   "metadata": {},
   "source": [
    "<b>Comments</b>\n",
    "\n",
    "1. Forward Difference (Red):\n",
    "   * The error decreases linearly as h decreases, indicating first-order accuracy i.e. $\\mathcal{O}h$\n",
    "2. Central Difference (Purple):\n",
    "   * The error decreases at a steeper rater compared to the other two difference methods, showing second-order accuracy i.e. $\\mathcal{O}h^2$\n",
    "3. Backward Difference (Blue):\n",
    "   * Similarly to the Forward Difference method, the error decreases linearly, indicating first-order accuracy i.e $\\mathcal{O}h$. \n",
    "\n",
    "<b>Conclusion:</b>\n",
    "- Central Difference is the most accurate method as it achieves faster error reduction with decreasing $h$.\n",
    "- Forward Difference and Backward Difference are less accurate but exhibit comparable performance."
   ]
  },
  {
   "cell_type": "markdown",
   "metadata": {},
   "source": [
    "#### Test Suiete\n",
    "\n",
    "There is a test suite implemented for the pure Python classes `Dual` and `NumDiff`. This is how the tests directory is structured:\n",
    "```bash\n",
    "   ├── tests\n",
    "   │   ├── __init__.py\n",
    "   │   ├── test_dad.py\n",
    "   │   └── test_ndiff.py\n",
    "```\n",
    "This allows the user to download the test suite as a package and run in on the notebook. \n",
    "\n",
    "Alternatively the user can run the test suite in the terminal with the following commad:\n",
    "```bash\n",
    "   pytest -s tests/*\n",
    "```\n",
    "(Make sure your Python virtual environment is active)"
   ]
  },
  {
   "cell_type": "code",
   "execution_count": null,
   "metadata": {},
   "outputs": [
    {
     "name": "stdout",
     "output_type": "stream",
     "text": [
      "\u001b[1m======================================= test session starts ========================================\u001b[0m\n",
      "platform linux -- Python 3.12.3, pytest-8.3.3, pluggy-1.5.0\n",
      "rootdir: /root/Document/Python_Script/dual_autodiff\n",
      "configfile: pyproject.toml\n",
      "plugins: anyio-4.7.0\n",
      "collected 19 items\n",
      "\n",
      "t_726e70948b184bdabb62cca301c364b1.py \u001b[32m.\u001b[0m\u001b[32m.\u001b[0m\u001b[32m.\u001b[0m\u001b[32m.\u001b[0m\u001b[32m.\u001b[0m\u001b[32m.\u001b[0m\u001b[32m.\u001b[0m\u001b[32m.\u001b[0m\u001b[32m.\u001b[0m\u001b[32m.\u001b[0m\u001b[32m.\u001b[0m\u001b[32m.\u001b[0m\u001b[32m.\u001b[0m\u001b[32m.\u001b[0m\u001b[32m.\u001b[0m\u001b[32m.\u001b[0m\u001b[32m.\u001b[0m\u001b[32m.\u001b[0m\u001b[32m.\u001b[0m\u001b[32m                                    [100%]\u001b[0m\n",
      "\n",
      "\u001b[32m======================================== \u001b[32m\u001b[1m19 passed\u001b[0m\u001b[32m in 0.05s\u001b[0m\u001b[32m ========================================\u001b[0m\n"
     ]
    },
    {
     "data": {
      "text/plain": [
       "<ExitCode.OK: 0>"
      ]
     },
     "execution_count": 27,
     "metadata": {},
     "output_type": "execute_result"
    }
   ],
   "source": [
    "# Running test on the Notebook\n",
    "from tests import TestDual\n",
    "from tests import NumDiff\n",
    "import ipytest\n",
    "\n",
    "TestDual\n",
    "NumDiff\n",
    "ipytest.run()"
   ]
  },
  {
   "cell_type": "markdown",
   "metadata": {},
   "source": [
    "### Automatic Differentiation In 1D\n",
    "\n",
    "As we have seen before:\n",
    "\n",
    "For a function $f(x)$, whose domain are dual numbers, i.e. $a + \\epsilon b$, where both $a,b \\in \\mathbb{R}$, then\n",
    "$$\n",
    "f(a + \\epsilon b) = f(x)|_{x=a} + \\epsilon b f'(x)|_{x=a}\n",
    "$$\n",
    "Can we exten this concept into higher dimensions?\n"
   ]
  },
  {
   "cell_type": "markdown",
   "metadata": {},
   "source": [
    "### Automatic Differentiation In Higher Dimensions\n",
    "\n",
    "We have seen how automatic differentiation using dual numbers is utilised in one dimension, but can we extend this into higher dimensions?  The answer is yes. One can compute first order partial derivatives with respect to each variable for a high dimensional function. \n",
    "\n",
    "Consider the function $f(\\vec{x})$, where $\\vec{x} = (x_1, x_2,...,x_n)^T$, whose domain $\\vec{a} + \\epsilon \\vec{b}$, where $\\vec{a} = (a_1, a_2,...,a_n)^T$ and $\\vec{b} = (b_1, b_2,...,b_n)^T$, then we can extend the one dimensional model to higher dimensions as follow:\n",
    "$$\n",
    "f(\\vec{a} + \\epsilon \\vec{b}) = f(\\vec{x})|_{\\vec{x}=\\vec{a}} + \\epsilon \\sum^n_{i=1} b_i \\frac{\\partial f(\\vec{x})}{\\partial x_i}|_{\\vec{x} = \\vec{a}}\n",
    "$$\n",
    "\n",
    "If we set all $b_i=1$ then the dual part of $f(\\vec{a} + \\epsilon \\vec{b})$ will be the sum of partial derivatives evaluated at $\\vec{x} = \\vec{a}$, but what if one wants to perform the partial derivative with repsect to a single valriable? The answer this question rather simple, we need to elimina the unwanted partial derivatives.\n",
    "\n",
    "Let us define a new function $f_j(\\vec{x})$, such that:\n",
    "$$\n",
    "f_j(\\vec{a} + \\epsilon \\vec{b}) = f(\\vec{x})|_{\\vec{x}=\\vec{a}} + \\epsilon \\sum^n_{i=1} \\delta_{ij} b_i \\frac{\\partial f(\\vec{x})}{\\partial x_i}|_{\\vec{x} = \\vec{a}}\n",
    "$$ \n",
    "where $\\delta_{ij}$ is the kronecker delta, such that;\n",
    "$$\n",
    "\\delta_{ij} = \n",
    "\\begin{cases} \n",
    "0 & \\text{when } i \\neq j \\\\ \n",
    "1 & \\text{when } i = j\\\\\n",
    "\\end{cases}\n",
    "$$\n",
    "And $\\vec{b} = [1,1,1,...,1]^T$, $\\vec{a}$ is the collection of point where the partial derivative of $f(\\vec{x})$ is evaluated at. One can simplify the above equation into:\n",
    "$$\n",
    "f_j(\\vec{a} + \\epsilon \\vec{b}) = f(\\vec{x})|_{\\vec{x}=\\vec{a}} + \\epsilon b_j \\frac{\\partial f(\\vec{x})}{\\partial x_j}|_{\\vec{x} = \\vec{a}}\n",
    "$$\n",
    "\n",
    "The index $j$ is the albitrary choice of the variable we want to differentiate for, e.g. if one wants to compute the partial derivative of $f(\\vec{x})$ with respect to $x_2$ then set $j=2$, here we will see how:\n",
    "\n"
   ]
  },
  {
   "cell_type": "markdown",
   "metadata": {},
   "source": [
    "Quick example on how to use `partial_derivative` from `Dual` and `DualX`\n",
    "\n",
    "Consider the function $f(x,y,z) = xy + x\\cos{z} + \\sin{y}$, one can compute the partial derivative with respect to each variable $x,y$ and $z$, at the point $(1, -1, 2)$ using classes `Dual` and `DualX`."
   ]
  },
  {
   "cell_type": "code",
   "execution_count": null,
   "metadata": {},
   "outputs": [
    {
     "name": "stdout",
     "output_type": "stream",
     "text": [
      "Results from pure Python class Dual\n",
      "Partial derivaive of f with respect to x, at x,y,z=1,-1,2 is -1.4161468365471424\n",
      "Partial derivaive of f with respect to y, at x,y,z=1,-1,2 is 1.5403023058681398\n",
      "Partial derivaive of f with respect to z, at x,y,z=1,-1,2 is -0.9092974268256817\n",
      "\n",
      "Results from Cythonised class DualX\n",
      "Partial derivaive of f with respect to x, at x,y,z=1,-1,2 is -1.4161468365471424\n",
      "Partial derivaive of f with respect to y, at x,y,z=1,-1,2 is 1.5403023058681398\n",
      "Partial derivaive of f with respect to z, at x,y,z=1,-1,2 is -0.9092974268256817\n"
     ]
    }
   ],
   "source": [
    "# Define the fucntion we want to differentaiate\n",
    "def f(x,y,z):\n",
    "    return x*y + x*z.cos() + y.sin()\n",
    "\n",
    "\n",
    "\"\"\" \n",
    "\n",
    "Computing partial derivatives, the first entery in partial_derivative(j,f,**args), j is the\n",
    "index we want to differentiate with respect too i.e. x,y or z, their repsective enteries are 0,1 and 2 \n",
    "(i.e. for the variable x, the index j takes value j=0 and so on).\n",
    "\n",
    "\"\"\"\n",
    "\n",
    "# Pure Python\n",
    "# To initialise the code we need a dummy variable say d\n",
    "d = Dual(0,0)\n",
    "x,y,z=Dual(1,0),Dual(-1,0),Dual(2,0)\n",
    "\n",
    "x_partial = d.partial_derivative(0,f,x,y,z) # partial derivative with respect to x use index 0\n",
    "y_partial = d.partial_derivative(1,f,x,y,z) # partial derivative with repsect to y use index 1\n",
    "z_partial = d.partial_derivative(2,f,x,y,z) # partial derivative with respect to z use index 2\n",
    "\n",
    "# Cython (repeate the same process from the pure Python version)\n",
    "dc = DualX(0,0)\n",
    "xc,yc,zc = DualX(1,0),DualX(-1,0),DualX(2,0)\n",
    "xc_partial = dc.partial_derivative(0,f,xc,yc,zc) # partial derivative with respect to x use index 0\n",
    "yc_partial = dc.partial_derivative(1,f,xc,yc,zc) # partial derivative with repsect to y use index 1\n",
    "zc_partial = dc.partial_derivative(2,f,xc,yc,zc) # partial derivative with respect to z use index 2\n",
    "\n",
    "print('Results from pure Python class Dual:')\n",
    "print(f\"Partial derivaive of f with respect to x, at x,y,z=1,-1,2 is {x_partial}\")\n",
    "print(f\"Partial derivaive of f with respect to y, at x,y,z=1,-1,2 is {y_partial}\")\n",
    "print(f\"Partial derivaive of f with respect to z, at x,y,z=1,-1,2 is {z_partial}\")\n",
    "print('')\n",
    "print('Results from Cythonised class DualX:')\n",
    "print(f\"Partial derivaive of f with respect to x, at x,y,z=1,-1,2 is {xc_partial}\")\n",
    "print(f\"Partial derivaive of f with respect to y, at x,y,z=1,-1,2 is {yc_partial}\")\n",
    "print(f\"Partial derivaive of f with respect to z, at x,y,z=1,-1,2 is {zc_partial}\")\n",
    "\n",
    "\n"
   ]
  },
  {
   "cell_type": "markdown",
   "metadata": {},
   "source": [
    "#### Comparing Performance of the Pure Python Version and the Cythonised Version\n",
    "\n",
    "To compare performance between the pure Python vs the Cythonised vesrions of the package we are going to use the module `timeit`. \n",
    "\n",
    "The `timeit` module in Python is a standard library tool used to measure the execution time of small code snippets. It is particularly useful for benchmarking and identifying performance bottlenecks.\n",
    "\n",
    "Here some key features of `timeit`:\n",
    "\n",
    "1. Accurate Timing:\n",
    "   - `timeit` disable useless collections and runs code multiple times to provide a more accurate measurement of execution time\n",
    "      (by default `timeit` will output an estimate of time per loop, including mean time and its standard deviation).\n",
    "\n",
    "2. Easy to Use:\n",
    "   - You can measure execution time of code directly in a script or interactively in the Python shell.\n",
    "\n",
    "3. Adaptive:\n",
    "   - You can control the number of repetitions and iterations to balance accuracy and performance.\n",
    "\n",
    "For our purposes we do not need to customise `timeit`, instead we are going to use its default features. For more information on how to use `timeit`, please see [timeit](https://docs.python.org/3/library/timeit.html).\n",
    "\n",
    "We want to compare the following performances:\n",
    "1. `Dual` vs `DualX`\n",
    "2. `NumDiff` vs `NumDiffX`\n",
    "\n",
    "For case (1), we want to performe the comparison twice, with the simplest function (i.e. retun a dual number) and then with a more complex function (taking the dual and real part separately of a function)."
   ]
  },
  {
   "cell_type": "code",
   "execution_count": 36,
   "metadata": {},
   "outputs": [],
   "source": [
    "'''\n",
    "\n",
    "Defining 4 sets of functions, 2 simple (Python and Cython), and 2 complex (Python and Cython)\n",
    "\n",
    "'''\n",
    "# Simple functions, return a dual number\n",
    "\n",
    "# Python\n",
    "def test_dual_simple(a,b):\n",
    "    return Dual(a,b)\n",
    "\n",
    "# Cython\n",
    "def test_dual_x_simple(a,b):\n",
    "    return DualX(a,b)  \n",
    "\n",
    "# Complex funtion, return real and dual part separalely\n",
    "\n",
    "# Python\n",
    "def test_dual_complex(a,b):\n",
    "    x=Dual(a,b)\n",
    "    func= x.sin()+x.cos() + x**2*x.exp() + x.tanh() \n",
    "    real = func.real\n",
    "    dual = func.dual\n",
    "    return real, dual \n",
    "\n",
    "# Cython\n",
    "def test_dual_x_complex(a,b):\n",
    "    x=DualX(a,b)\n",
    "    func= x.sin()+x.cos() + x**2*x.exp() + x.tanh() \n",
    "    real = func.real\n",
    "    dual = func.dual\n",
    "    return real, dual \n"
   ]
  },
  {
   "cell_type": "code",
   "execution_count": 46,
   "metadata": {},
   "outputs": [
    {
     "name": "stdout",
     "output_type": "stream",
     "text": [
      "Simple Test\n",
      "Python:\n",
      "148 ns ± 3.99 ns per loop (mean ± std. dev. of 10 runs, 10,000,000 loops each)\n",
      "Cython:\n",
      "88.1 ns ± 2.02 ns per loop (mean ± std. dev. of 10 runs, 10,000,000 loops each)\n",
      "\n",
      "Complex Test\n",
      "Python:\n",
      "10.1 μs ± 65.3 ns per loop (mean ± std. dev. of 10 runs, 10,000,000 loops each)\n",
      "Cython:\n",
      "9.39 μs ± 1.29 μs per loop (mean ± std. dev. of 10 runs, 10,000,000 loops each)\n"
     ]
    }
   ],
   "source": [
    "import timeit # importing required package\n",
    "\n",
    "\"\"\" \n",
    "\n",
    "%timeit -n <number_of_loops> -r <number_of_runs> <code_to_test>\n",
    "\n",
    "After -n insert number of loops\n",
    "After -r insert number of runs\n",
    "\n",
    "I am running tests for 10**7 loops, if is too much for your local machine, \n",
    "please feel free to lower the number of loops or the number of runs!\n",
    "\n",
    "\"\"\"\n",
    "\n",
    "print('Simple Test')\n",
    "print('Python:')\n",
    "%timeit -n 10000000 -r 10 test_dual_simple(2,1) # simple test for Python\n",
    "print('Cython:')\n",
    "%timeit -n 10000000 -r 10 test_dual_x_simple(2,1) # simple test for Cython\n",
    "print('')\n",
    "print('Complex Test')\n",
    "print('Python:')\n",
    "%timeit -n 10000000 -r 10 test_dual_complex(100,345) # complex test for Python\n",
    "print('Cython:')\n",
    "%timeit -n 10000000 -r 10 test_dual_x_complex(100,345) # complex test for Cython"
   ]
  },
  {
   "cell_type": "markdown",
   "metadata": {},
   "source": [
    "From the above result, one can notice that the Cythonised version of the package is faster for both tests (as one my expect), in the simple test the Cythonised version is significantly faster than the pure Python version, but there is not much difference between the two for the complex test in terms of performance. \n",
    "\n",
    "<b>Difference between the two test</b>\n",
    "\n",
    "<u>Simple Test</u>: In the simple test, we constructed a function that runs the simplest task, takes two variable as input a that will be allocated as real and dual part of a number, i.e. `Dual(a,b)` for pure Python, and `DualX(a,b)` for the Cythonised version, here the Cythonised version is much faster.\n",
    "\n",
    "<u>Complex Test</u>: In the complex test, we constructed a function that takes two variables as input and allocates them into real and dual part, there are two majior differences between complex and simple test.\n",
    "\n",
    "1. Simple test we are allocating input into real and dual part, while in the complex case we allocate the input to a dual number $x$. Then we evaluate the function $f(x) = \\sin{x}+ \\cos{x} + x^2e^x + \\tanh{x}$ with the dual number $x$.\n",
    "2. After evaluating $f(x)$ at $x = a + \\epsilon b$, the functions `test_dual_complex` and `test_dual_x_complex` retun the real and dual part separately. This is not a problem for the pure Python version as no major modifications are implemented in order to return `.real` and `.dual` separately, while this caused some issues when Cythonising the package, i.e. it would not recognise `.real` and `.dual`. To overcome the prolem two extra functions were implemented using `@property`, `def real(self)` and `def dual(self)`, to return `.real` and `.dual`. I belive this is one of the reason why for the complex test the Cythonised version is only outpefroming the pure Python version by $0.71 \\mu s$ (this is the result obtained when running the code, the user my get a different answer). Furthermore, when defining input varicbles with `cdef`, `object` was utilised instead of `double`, this significantly slows down perfomance, but allows more fexilibility, e.g. takes arrays as inputs.\n",
    "\n",
    "<b>What are the difference between `double` and `object`</b> \n",
    "\n",
    "`double`:\n",
    "\n",
    "`double` reoresents a C-style double-precision floating point number. This is used when high-perfomance numerical computations is required, furthermore this works directly with C-style numeric types. `double` has a fixed size (usually 8 bytes) and does not involve Python's memory managment, this performs much faster than Python's `float`(a `float` in Python is an `object` type). \n",
    "\n",
    "Limitations:\n",
    "\n",
    "- Cannot handle Python's arbitrary-precision floats.\n",
    "- Cannot be `None` or any other non-numerical values\n",
    "- Less flexible than `object`, as mentioned `double` does not take arrays\n",
    "\n",
    "`object`:\n",
    "\n",
    "This represents a generic Python `object` and it can hold any type of Python data (e.g. `int`, `float`, `lists`, `str` or custom objects). This is generally used its flexibility as it allows interaction with Python's dynamic typing system. In terms of memory usage, `object` is more expensive than `double` as it uses Python's heap memory and is managed by Python's garbage collector. \n",
    "\n",
    "Limitations:\n",
    "\n",
    "- Significantly slower than `double`\n",
    "\n",
    "<b>Conclusion</b>:\n",
    "\n",
    "In our scenario, (we are not looking for extrimely fast performance) we are trading run time with flexibility."
   ]
  },
  {
   "cell_type": "code",
   "execution_count": 47,
   "metadata": {},
   "outputs": [],
   "source": [
    "''' \n",
    "Testing NumDiff and NumDiffX performances\n",
    "\n",
    "'''\n",
    "\n",
    "# Define function we want to differentiate\n",
    "def f(x):\n",
    "    return x**2 + np.exp(-x)"
   ]
  },
  {
   "cell_type": "code",
   "execution_count": 48,
   "metadata": {},
   "outputs": [],
   "source": [
    "''' \n",
    "\n",
    "For both pure Python and Cythonised versions, we are going to perform a test\n",
    "on the central difference (as we have previusly seen is also the most accurate\n",
    "of the 3 different first order numerical derivatives)\n",
    "\n",
    "'''\n",
    "\n",
    "# Pure Python\n",
    "def non_cythonized(f, x, h):\n",
    "    der=NumDiff(f,x,h)\n",
    "    return der.first_central()\n",
    "\n",
    "# Cythonised\n",
    "def cythonized(f, x, h):\n",
    "    der=NumDiffX(f,x,h)\n",
    "    return der.first_central()"
   ]
  },
  {
   "cell_type": "code",
   "execution_count": 50,
   "metadata": {},
   "outputs": [
    {
     "name": "stdout",
     "output_type": "stream",
     "text": [
      "Python test:\n",
      "2.03 μs ± 45.6 ns per loop (mean ± std. dev. of 10 runs, 1,000,000 loops each)\n",
      "\n",
      "Cython test\n",
      "1.92 μs ± 22.7 ns per loop (mean ± std. dev. of 10 runs, 1,000,000 loops each)\n"
     ]
    }
   ],
   "source": [
    "\n",
    "print('Python test:')\n",
    "%timeit -n 1000000 -r 10 non_cythonized(f,2,0.1)\n",
    "print('')\n",
    "print('Cython test')\n",
    "%timeit -n 1000000 -r 10 cythonized(f,2,0.1)\n"
   ]
  },
  {
   "cell_type": "markdown",
   "metadata": {},
   "source": [
    "### Exercises\n",
    "\n",
    "Now try yourself. \n",
    "\n",
    "Complete the following sets of exercises, in case of multivariable function compute the partial derivative with respeact to each variable, solutions are provided in the Solutions.ipynb:\n",
    "\n",
    "1. Compute the derivative by hand of the following functions:\n",
    "\n",
    "   - Polynomial\n",
    "\n",
    "   \\begin{equation}\n",
    "   f(x) = x^3 - 4x^2 + 6x - 2 \\tag{1}\n",
    "   \\end{equation}\n",
    "    \n",
    "   - Exponential\n",
    "\n",
    "   \\begin{equation}\n",
    "   g(x) = e^x - 2x\\tag{2}\n",
    "   \\end{equation}\n",
    "\n",
    "   - Trigonometric\n",
    "\n",
    "   \\begin{equation}\n",
    "   h(x) = \\sin{x} + \\cos{2x}\\tag{3}\n",
    "   \\end{equation}\n",
    "\n",
    "   - Two-Variable Function\n",
    "\n",
    "   \\begin{equation}\n",
    "   f(x,y) = x^2 + y^2 + 3xy - 5\\tag{4}\n",
    "   \\end{equation}\n",
    "\n",
    "   - Three-Variable Function\n",
    "\n",
    "   \\begin{equation}\n",
    "   g(x,y,z) = e^{x+y}cos(z) - x^2 + y\\tag{5}\n",
    "   \\end{equation}\n",
    "\n",
    "2. Now compute the derivative of each function using the module `dual_autodiff` or `src.dual_autodiff_x`, at $x=2$ for Eq. (1,2,3), $(x,y)=(-1,1)$ for Eq. (4) and $(x,y,z) = (2,3,-4)$ for Eq. (5), compare the results with part 1. "
   ]
  }
 ],
 "metadata": {
  "kernelspec": {
   "display_name": "dad_venv",
   "language": "python",
   "name": "python3"
  },
  "language_info": {
   "codemirror_mode": {
    "name": "ipython",
    "version": 3
   },
   "file_extension": ".py",
   "mimetype": "text/x-python",
   "name": "python",
   "nbconvert_exporter": "python",
   "pygments_lexer": "ipython3",
   "version": "3.12.3"
  }
 },
 "nbformat": 4,
 "nbformat_minor": 2
}
