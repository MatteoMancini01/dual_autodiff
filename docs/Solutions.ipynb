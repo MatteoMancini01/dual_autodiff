{
 "cells": [
  {
   "cell_type": "markdown",
   "metadata": {},
   "source": [
    "# Solutions"
   ]
  },
  {
   "cell_type": "code",
   "execution_count": 1,
   "metadata": {},
   "outputs": [
    {
     "name": "stdout",
     "output_type": "stream",
     "text": [
      "Dual(real = 99, dual = 1)\n"
     ]
    }
   ],
   "source": [
    "from dual_autodiff import Dual\n",
    "\n",
    "x = Dual(100,1)\n",
    "\n",
    "print(x - 1)"
   ]
  }
 ],
 "metadata": {
  "kernelspec": {
   "display_name": "dual_venv",
   "language": "python",
   "name": "python3"
  },
  "language_info": {
   "codemirror_mode": {
    "name": "ipython",
    "version": 3
   },
   "file_extension": ".py",
   "mimetype": "text/x-python",
   "name": "python",
   "nbconvert_exporter": "python",
   "pygments_lexer": "ipython3",
   "version": "3.12.3"
  }
 },
 "nbformat": 4,
 "nbformat_minor": 2
}
